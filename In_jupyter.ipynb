{
 "cells": [
  {
   "cell_type": "code",
   "execution_count": 3,
   "metadata": {},
   "outputs": [
    {
     "data": {
      "text/plain": [
       "7"
      ]
     },
     "execution_count": 3,
     "metadata": {},
     "output_type": "execute_result"
    }
   ],
   "source": [
    "#arthimethic\n",
    "3+4"
   ]
  },
  {
   "cell_type": "code",
   "execution_count": 4,
   "metadata": {},
   "outputs": [
    {
     "data": {
      "text/plain": [
       "6"
      ]
     },
     "execution_count": 4,
     "metadata": {},
     "output_type": "execute_result"
    }
   ],
   "source": [
    "2*3"
   ]
  },
  {
   "cell_type": "code",
   "execution_count": 5,
   "metadata": {},
   "outputs": [
    {
     "data": {
      "text/plain": [
       "1.6666666666666667"
      ]
     },
     "execution_count": 5,
     "metadata": {},
     "output_type": "execute_result"
    }
   ],
   "source": [
    "5/3"
   ]
  },
  {
   "cell_type": "code",
   "execution_count": 6,
   "metadata": {},
   "outputs": [
    {
     "data": {
      "text/plain": [
       "-6"
      ]
     },
     "execution_count": 6,
     "metadata": {},
     "output_type": "execute_result"
    }
   ],
   "source": [
    "2-8"
   ]
  },
  {
   "cell_type": "code",
   "execution_count": 7,
   "metadata": {},
   "outputs": [
    {
     "data": {
      "text/plain": [
       "2"
      ]
     },
     "execution_count": 7,
     "metadata": {},
     "output_type": "execute_result"
    }
   ],
   "source": [
    "5%3"
   ]
  },
  {
   "cell_type": "code",
   "execution_count": 8,
   "metadata": {},
   "outputs": [
    {
     "data": {
      "text/plain": [
       "0"
      ]
     },
     "execution_count": 8,
     "metadata": {},
     "output_type": "execute_result"
    }
   ],
   "source": [
    "20%2"
   ]
  },
  {
   "cell_type": "code",
   "execution_count": 9,
   "metadata": {},
   "outputs": [
    {
     "name": "stdout",
     "output_type": "stream",
     "text": [
      "hello\n"
     ]
    }
   ],
   "source": [
    "#print\n",
    "print(\"hello\")"
   ]
  },
  {
   "cell_type": "code",
   "execution_count": 11,
   "metadata": {},
   "outputs": [
    {
     "name": "stdout",
     "output_type": "stream",
     "text": [
      "sushil\n"
     ]
    }
   ],
   "source": [
    "#variable\n",
    "a=4\n",
    "a=\"sushil\"\n",
    "#python follow the approach of up to down just like c , c++\n",
    "print(a)"
   ]
  },
  {
   "cell_type": "code",
   "execution_count": 14,
   "metadata": {},
   "outputs": [
    {
     "name": "stdout",
     "output_type": "stream",
     "text": [
      "34\n"
     ]
    },
    {
     "data": {
      "text/plain": [
       "int"
      ]
     },
     "execution_count": 14,
     "metadata": {},
     "output_type": "execute_result"
    }
   ],
   "source": [
    "k=34\n",
    "print(k)\n",
    "type(k)"
   ]
  },
  {
   "cell_type": "code",
   "execution_count": 22,
   "metadata": {},
   "outputs": [
    {
     "name": "stdout",
     "output_type": "stream",
     "text": [
      "['ronny', 'tarzan', 'rocky']\n",
      "<class 'float'>\n",
      "<class 'int'>\n",
      "<class 'str'>\n"
     ]
    }
   ],
   "source": [
    "#type\n",
    "my_dogs=[\"ronny\",\"tarzan\",\"rocky\"]\n",
    "print(my_dogs)\n",
    "type(my_dogs)\n",
    "k=34.5\n",
    "print(type(k))\n",
    "m=3\n",
    "print(type(m))\n",
    "l=\"sushil\"\n",
    "print(type(l))"
   ]
  },
  {
   "cell_type": "code",
   "execution_count": 17,
   "metadata": {},
   "outputs": [
    {
     "name": "stdout",
     "output_type": "stream",
     "text": [
      "10\n"
     ]
    }
   ],
   "source": [
    "a=10\n",
    "print(a)"
   ]
  },
  {
   "cell_type": "code",
   "execution_count": 18,
   "metadata": {},
   "outputs": [
    {
     "name": "stdout",
     "output_type": "stream",
     "text": [
      "10\n"
     ]
    }
   ],
   "source": [
    "print(a)"
   ]
  },
  {
   "cell_type": "code",
   "execution_count": 19,
   "metadata": {},
   "outputs": [
    {
     "name": "stdout",
     "output_type": "stream",
     "text": [
      "20\n"
     ]
    }
   ],
   "source": [
    "a+=a\n",
    "print(a)"
   ]
  },
  {
   "cell_type": "code",
   "execution_count": 20,
   "metadata": {},
   "outputs": [
    {
     "name": "stdout",
     "output_type": "stream",
     "text": [
      "40\n"
     ]
    }
   ],
   "source": [
    "#or\n",
    "a=a+a\n",
    "print(a)"
   ]
  },
  {
   "cell_type": "code",
   "execution_count": 23,
   "metadata": {},
   "outputs": [
    {
     "name": "stdout",
     "output_type": "stream",
     "text": [
      "5\n"
     ]
    }
   ],
   "source": [
    "#don't use inbuilt keyword like str ,int , float , list etc\n",
    "int =5\n",
    "print(int)#but this is wrong "
   ]
  },
  {
   "cell_type": "code",
   "execution_count": null,
   "metadata": {},
   "outputs": [],
   "source": [
    "#after restarting lets see we find the value of a  which is assigned already \n",
    "print(a)\n",
    "# it is not showing small  info about jupyter notebook"
   ]
  },
  {
   "cell_type": "code",
   "execution_count": 3,
   "metadata": {},
   "outputs": [
    {
     "name": "stdout",
     "output_type": "stream",
     "text": [
      "4.42\n",
      "29.58\n"
     ]
    }
   ],
   "source": [
    "my_income =34\n",
    "tax =0.13\n",
    "# let find how i much i pay the tax hera \n",
    "print(my_income*tax)\n",
    "# my net salary is \n",
    "print(my_income- (my_income*tax))\n"
   ]
  },
  {
   "cell_type": "code",
   "execution_count": 5,
   "metadata": {},
   "outputs": [
    {
     "name": "stdout",
     "output_type": "stream",
     "text": [
      "hai\n",
      "helo i don't know you \n",
      " \n",
      "Dear friend john\n",
      "                         Subject : to know you condition \n",
      "         i hope you are all right i have heard you are gone to the anywhere with out talking you mom and dad when you are home contact me \n",
      "                                                                                            your beloved friend Sushil \n"
     ]
    }
   ],
   "source": [
    "# strings : sequence of the char written inside the double quote ('... ')and or(\"....\") and ('''  hai ''')for multiple lines we will see that too \n",
    "\"\"\" this is multiple line comment  \"\"\"\n",
    "print ('hai')\n",
    "print(\"helo i don't know you \")\n",
    "print(''' \n",
    "Dear friend john\n",
    "                         Subject : to know you condition \n",
    "         i hope you are all right i have heard you are gone to the anywhere with out talking you mom and dad when you are home contact me \n",
    "                                                                                            your beloved friend Sushil ''')\n",
    "# this is a random example of the string "
   ]
  },
  {
   "cell_type": "code",
   "execution_count": 10,
   "metadata": {},
   "outputs": [
    {
     "name": "stdout",
     "output_type": "stream",
     "text": [
      "h\n",
      "a\n",
      "u\n"
     ]
    }
   ],
   "source": [
    "#index in the python \n",
    "message = \"hai i love you\"\n",
    "print(message[0])\n",
    "print(message[1])\n",
    "print(message[-1])#this is cool feature of python which is not available in c,c++\n",
    "#index start from 0 to n \n",
    "\n",
    "\n"
   ]
  },
  {
   "cell_type": "code",
   "execution_count": 11,
   "metadata": {},
   "outputs": [
    {
     "name": "stdout",
     "output_type": "stream",
     "text": [
      "hello \n",
      " world\n",
      "hello \t \t world\n"
     ]
    }
   ],
   "source": [
    "#escape sequences \n",
    "#\\n \\t \n",
    "print(\"hello \\n world\")\n",
    "print(\"hello \\t \\t world\")"
   ]
  },
  {
   "cell_type": "code",
   "execution_count": null,
   "metadata": {},
   "outputs": [],
   "source": [
    "feeling = \"iam bored\"\n",
    "len(feeling)#this gives us the length of the any strings\n",
    "\n"
   ]
  },
  {
   "cell_type": "code",
   "execution_count": 15,
   "metadata": {},
   "outputs": [
    {
     "name": "stdout",
     "output_type": "stream",
     "text": [
      "u\n",
      "s\n",
      "sushil\n",
      "su\n",
      "shil\n",
      "sushil\n",
      "lihsus\n",
      "ssi\n",
      "lhu\n",
      "6\n",
      "sushil\n",
      "sushil\n",
      "si\n",
      "is\n"
     ]
    }
   ],
   "source": [
    "# slice \n",
    "name = \"sushil\"\n",
    "print(name[1])\n",
    "print(name[2])\n",
    "print(name[::])#similarly display all\n",
    "print(name[:2])\n",
    "print(name[2:])\n",
    "print(name[:])# display all \n",
    "# reverse everything \n",
    "print(name[::-1])\n",
    "print(name[::2])#maintain the gap of the two in reverse order\n",
    "print(name[::-2])#maintain the gap of the two from starting \n",
    "print(len(name))\n",
    "print(name[:7])\n",
    "print(name[0:7])\n",
    "print(name[2:7:2]) #7 is the limit and starting is 2  and the last : indicate the jump in the index \n",
    "print(name[-2:0:-2])"
   ]
  },
  {
   "cell_type": "code",
   "execution_count": 16,
   "metadata": {},
   "outputs": [
    {
     "ename": "TypeError",
     "evalue": "'str' object does not support item assignment",
     "output_type": "error",
     "traceback": [
      "\u001b[1;31m---------------------------------------------------------------------------\u001b[0m",
      "\u001b[1;31mTypeError\u001b[0m                                 Traceback (most recent call last)",
      "Cell \u001b[1;32mIn[16], line 4\u001b[0m\n\u001b[0;32m      1\u001b[0m \u001b[39m#  some of the string properties and methods \u001b[39;00m\n\u001b[0;32m      2\u001b[0m \u001b[39m#immutability \u001b[39;00m\n\u001b[0;32m      3\u001b[0m name \u001b[39m=\u001b[39m \u001b[39m\"\u001b[39m\u001b[39msam \u001b[39m\u001b[39m\"\u001b[39m\n\u001b[1;32m----> 4\u001b[0m name[\u001b[39m0\u001b[39;49m]\u001b[39m=\u001b[39m\u001b[39m'\u001b[39m\u001b[39mr\u001b[39m\u001b[39m'\u001b[39m\n\u001b[0;32m      5\u001b[0m \u001b[39mprint\u001b[39m(name)\n",
      "\u001b[1;31mTypeError\u001b[0m: 'str' object does not support item assignment"
     ]
    }
   ],
   "source": [
    "#  some of the string properties and methods \n",
    "#immutability \n",
    "#we cannot assign the variable by this way \n",
    "name = \"sam \"\n",
    "#but in the case of c++ we can do this \n",
    "name[0]='r'\n",
    "print(name)"
   ]
  },
  {
   "cell_type": "code",
   "execution_count": 18,
   "metadata": {},
   "outputs": [
    {
     "name": "stdout",
     "output_type": "stream",
     "text": [
      "sam\n",
      "am\n",
      "Ram\n"
     ]
    }
   ],
   "source": [
    "#resolving above one \n",
    "name = \"sam\"\n",
    "print(name)\n",
    "print(name[1:])\n",
    "\n",
    "another = 'R'+name[1:]\n",
    "print(another)\n"
   ]
  },
  {
   "cell_type": "code",
   "execution_count": 19,
   "metadata": {},
   "outputs": [
    {
     "name": "stdout",
     "output_type": "stream",
     "text": [
      " sushil  Pandey \n"
     ]
    }
   ],
   "source": [
    "# concatenation : string addition\n",
    "name = \" sushil \"\n",
    "surname =\"Pandey \"\n",
    "print(name+surname)\n",
    "\n"
   ]
  },
  {
   "cell_type": "code",
   "execution_count": 20,
   "metadata": {},
   "outputs": [
    {
     "name": "stdout",
     "output_type": "stream",
     "text": [
      "❤️❤️❤️❤️❤️\n"
     ]
    }
   ],
   "source": [
    "# string multiplication\n",
    "name = '❤️'*5\n",
    "print(name)"
   ]
  },
  {
   "cell_type": "code",
   "execution_count": 21,
   "metadata": {},
   "outputs": [
    {
     "ename": "TypeError",
     "evalue": "can only concatenate str (not \"int\") to str",
     "output_type": "error",
     "traceback": [
      "\u001b[1;31m---------------------------------------------------------------------------\u001b[0m",
      "\u001b[1;31mTypeError\u001b[0m                                 Traceback (most recent call last)",
      "Cell \u001b[1;32mIn[21], line 3\u001b[0m\n\u001b[0;32m      1\u001b[0m \u001b[39m# concatination  with the different data type let see\u001b[39;00m\n\u001b[0;32m      2\u001b[0m \u001b[39m# str with int \u001b[39;00m\n\u001b[1;32m----> 3\u001b[0m \u001b[39mprint\u001b[39m(\u001b[39m'\u001b[39;49m\u001b[39mI\u001b[39;49m\u001b[39m'\u001b[39;49m \u001b[39m+\u001b[39;49m \u001b[39m\"\u001b[39;49m\u001b[39mlove\u001b[39;49m\u001b[39m\"\u001b[39;49m\u001b[39m+\u001b[39;49m\u001b[39m\"\u001b[39;49m\u001b[39m YOU\u001b[39;49m\u001b[39m\"\u001b[39;49m \u001b[39m+\u001b[39;49m \u001b[39m2\u001b[39;49m)\n",
      "\u001b[1;31mTypeError\u001b[0m: can only concatenate str (not \"int\") to str"
     ]
    }
   ],
   "source": [
    "# concatenation  with the different data type let see\n",
    "# str with int \n",
    "print('I' + \"love\"+\" YOU\" + 2)\n"
   ]
  },
  {
   "cell_type": "code",
   "execution_count": 22,
   "metadata": {},
   "outputs": [
    {
     "name": "stdout",
     "output_type": "stream",
     "text": [
      "I Love You 2\n"
     ]
    }
   ],
   "source": [
    "# concatenation  \n",
    "print(\"I \" + \"Love\"+\" You\"+\" 2\")\n"
   ]
  },
  {
   "cell_type": "code",
   "execution_count": 23,
   "metadata": {},
   "outputs": [
    {
     "name": "stdout",
     "output_type": "stream",
     "text": [
      "25\n"
     ]
    }
   ],
   "source": [
    "#sum of two number \n",
    "num = '2'\n",
    "num2 = '5'\n",
    "print(num + num2)"
   ]
  },
  {
   "cell_type": "code",
   "execution_count": 26,
   "metadata": {},
   "outputs": [
    {
     "name": "stdout",
     "output_type": "stream",
     "text": [
      "HELLO WORLD\n",
      "hello world\n",
      "['hello', 'World']\n",
      "['he', '', 'o Wor', 'd']\n"
     ]
    }
   ],
   "source": [
    "x = \"hello World\"\n",
    "print(x.upper())\n",
    "print(x.lower())\n",
    "print(x.split())#split by space \n",
    "#lets split by any letter\n",
    "print(x.split('l')) #this is split any string in  the \n",
    "# list "
   ]
  },
  {
   "cell_type": "code",
   "execution_count": null,
   "metadata": {},
   "outputs": [],
   "source": [
    "'''Addition or concatenation can be done by two way \n",
    ".format and print(f\" \") '''"
   ]
  },
  {
   "cell_type": "code",
   "execution_count": 28,
   "metadata": {},
   "outputs": [
    {
     "name": "stdout",
     "output_type": "stream",
     "text": [
      "my name is sushil pandey  \n",
      " Iam 21 years old new at github\n"
     ]
    }
   ],
   "source": [
    "# string interpolation\n",
    "# .format method \n",
    "# string.format()\n",
    "# syntax \n",
    "# \" str {}.format(\" str1\")\"\n",
    "\n",
    "print(\"my name is sushil pandey {}\".format(\" \\n Iam 21 years old new at github\") )\n",
    "\n"
   ]
  },
  {
   "cell_type": "code",
   "execution_count": 35,
   "metadata": {},
   "outputs": [
    {
     "name": "stdout",
     "output_type": "stream",
     "text": [
      "19\n",
      "the word is dumb dumb \n",
      "the word is dumb ass \n"
     ]
    }
   ],
   "source": [
    "string =\"The {} {} {}\".format('fox','brown','quick')\n",
    "print(len(string))\n",
    "#it include the information in the curley brackets which is by the index \n",
    "string1 = \"the word is {0} {0} \".format(\"dumb\",\"ass\")\n",
    "print(string1)\n",
    "string2 = \"the word is {0} {1} \".format(\"dumb\",\"ass\")\n",
    "print(string2)\n",
    "#word is in the indexing form"
   ]
  },
  {
   "cell_type": "code",
   "execution_count": 38,
   "metadata": {},
   "outputs": [
    {
     "name": "stdout",
     "output_type": "stream",
     "text": [
      "my name is sushil \n"
     ]
    }
   ],
   "source": [
    "#playing with variable\n",
    "string = \"my name is {a} \".format(a=\"sushil\",b =\" pandey \" )\n",
    "print(string)"
   ]
  },
  {
   "cell_type": "code",
   "execution_count": 47,
   "metadata": {},
   "outputs": [
    {
     "name": "stdout",
     "output_type": "stream",
     "text": [
      "14.285714285714286\n",
      "The result of the above operation is 14.286\n"
     ]
    }
   ],
   "source": [
    "result = 100/7\n",
    "print(result)\n",
    "print(\"The result of the above operation is {r:1 .3f}\".format(r= result ))\n",
    "#word.digit.precision"
   ]
  },
  {
   "cell_type": "code",
   "execution_count": 48,
   "metadata": {},
   "outputs": [
    {
     "name": "stdout",
     "output_type": "stream",
     "text": [
      "Hello , his name is sushil\n"
     ]
    }
   ],
   "source": [
    "name = \"sushil\"\n",
    "print(\"Hello , his name is {}\".format(name))"
   ]
  },
  {
   "cell_type": "code",
   "execution_count": 49,
   "metadata": {},
   "outputs": [
    {
     "name": "stdout",
     "output_type": "stream",
     "text": [
      "my name is sushil pandey\n"
     ]
    }
   ],
   "source": [
    "#another method to display string \n",
    "name = \"sushil\"\n",
    "surname = \"pandey\"\n",
    "print(f\"my name is {name} {surname}\")"
   ]
  },
  {
   "cell_type": "code",
   "execution_count": 51,
   "metadata": {},
   "outputs": [
    {
     "name": "stdout",
     "output_type": "stream",
     "text": [
      "my name is sushil \n",
      " My roll number is 12 \n",
      " my Contact number is 9807089018\n",
      "My name is sushil \n",
      " My roll number is 12\n",
      " My contact number is 9807089018\n"
     ]
    }
   ],
   "source": [
    "# number name roll no use this\n",
    "#string fomatting \n",
    "name = \"sushil\"\n",
    "roll_no=12\n",
    "Phone_no =9807089018\n",
    "print(f\"my name is {name} \\n My roll number is {roll_no} \\n my Contact number is {Phone_no}\")\n",
    "print(\"My name is {} \\n My roll number is {}\\n My contact number is {}\".format(name,roll_no,Phone_no))"
   ]
  }
 ],
 "metadata": {
  "kernelspec": {
   "display_name": "Python 3",
   "language": "python",
   "name": "python3"
  },
  "language_info": {
   "codemirror_mode": {
    "name": "ipython",
    "version": 3
   },
   "file_extension": ".py",
   "mimetype": "text/x-python",
   "name": "python",
   "nbconvert_exporter": "python",
   "pygments_lexer": "ipython3",
   "version": "3.10.0"
  },
  "orig_nbformat": 4,
  "vscode": {
   "interpreter": {
    "hash": "229cdfb8eedfa4964725b7eb0da8d7a63b25d97a6ab808f09bd6b506844c0629"
   }
  }
 },
 "nbformat": 4,
 "nbformat_minor": 2
}
