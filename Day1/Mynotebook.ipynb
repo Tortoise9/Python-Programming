{
 "cells": [
  {
   "cell_type": "code",
   "execution_count": 4,
   "metadata": {},
   "outputs": [
    {
     "name": "stdout",
     "output_type": "stream",
     "text": [
      "hello world\n",
      "\thello world\n"
     ]
    }
   ],
   "source": [
    "print(\"hello world\")\n",
    "# or \n",
    "print('\\thello world')"
   ]
  },
  {
   "cell_type": "code",
   "execution_count": 7,
   "metadata": {},
   "outputs": [
    {
     "name": "stdout",
     "output_type": "stream",
     "text": [
      "Day 1 - Python Print Function\n",
      "The function is declared like this :\n",
      "print('what to print ')\n"
     ]
    }
   ],
   "source": [
    "print(\"Day 1 - Python Print Function\")\n",
    "print(\"The function is declared like this :\")\n",
    "print(\"print('what to print ')\")"
   ]
  },
  {
   "cell_type": "code",
   "execution_count": 11,
   "metadata": {},
   "outputs": [
    {
     "name": "stdout",
     "output_type": "stream",
     "text": [
      " hello world \n",
      " hello world \n",
      " hello world\n"
     ]
    }
   ],
   "source": [
    "\n",
    "print(\" hello world \\n hello world \\n hello world\")\n"
   ]
  },
  {
   "cell_type": "code",
   "execution_count": 17,
   "metadata": {},
   "outputs": [
    {
     "name": "stdout",
     "output_type": "stream",
     "text": [
      "Sushil Pandey\n",
      "Sushil Pandey\n"
     ]
    }
   ],
   "source": [
    "# combining the string (concatenation)\n",
    "print('Sushil '+'Pandey')\n",
    "print('Sushil'+\" \"+\"Pandey\") "
   ]
  },
  {
   "cell_type": "code",
   "execution_count": 2,
   "metadata": {},
   "outputs": [
    {
     "name": "stdout",
     "output_type": "stream",
     "text": [
      "Day 1 - String Manipulation \n",
      "String Concatenation is done with the  sign.\n",
      "e.g. print(\"hello \" + \" world \")\n",
      "New lines can be created with a backslash and n .\n"
     ]
    }
   ],
   "source": [
    "#Fix the code below\n",
    "''' \n",
    "print(Day 1 - String Manipulation \")\n",
    "print(\"String Concatenation is done with the \" + \" sign.\")\n",
    "print('e.g. print(\"hello \" + \" world \")')\n",
    "print(\"New lines can be created with a backslash and n .\")\n",
    "'''\n",
    "print(\"Day 1 - String Manipulation \")\n",
    "print(\"String Concatenation is done with the \" + \" sign.\")\n",
    "print('e.g. print(\"hello \" + \" world \")')\n",
    "print(\"New lines can be created with a backslash and n .\")"
   ]
  },
  {
   "cell_type": "code",
   "execution_count": 7,
   "metadata": {},
   "outputs": [
    {
     "data": {
      "text/plain": [
       "'sushil'"
      ]
     },
     "execution_count": 7,
     "metadata": {},
     "output_type": "execute_result"
    }
   ],
   "source": [
    "#inputing taking\n",
    "input(\"Whats your name : \" )\n",
    "#it will take the value and return the value \n"
   ]
  },
  {
   "cell_type": "code",
   "execution_count": 9,
   "metadata": {},
   "outputs": [
    {
     "name": "stdout",
     "output_type": "stream",
     "text": [
      "Name : Sushil\n",
      "Surname :  Pandey\n",
      "Hello Sushant\n"
     ]
    }
   ],
   "source": [
    "#Getting input from the user \n",
    "name = input(\"Enter the your name ? \")\n",
    "print(\"Name :\",name)\n",
    "surname = input (\"Enter your surname ?\")\n",
    "print(\"Surname : \",surname )\n",
    "\n",
    "print(\"Hello \" + input(\"Enter your friend name :\") )"
   ]
  },
  {
   "cell_type": "code",
   "execution_count": 11,
   "metadata": {},
   "outputs": [
    {
     "name": "stdout",
     "output_type": "stream",
     "text": [
      "Hello \n"
     ]
    }
   ],
   "source": [
    "# Single line comment : #\n",
    "# Mulitple line comment : \"\"\" ** \"\"\" or ''' ** '''\n",
    "#Best to write the comment as\n",
    "print(\"Hello \" + input(\"Enter your relation : \")) \n",
    "# input will get the user input in the console\n",
    "# input will take the input from the user and replace it \n",
    "#it (return the receive value from the user )\n"
   ]
  },
  {
   "cell_type": "code",
   "execution_count": 15,
   "metadata": {},
   "outputs": [
    {
     "name": "stdout",
     "output_type": "stream",
     "text": [
      "11\n",
      "11\n"
     ]
    }
   ],
   "source": [
    "#input practical \n",
    "#take a input from user and print the letter input\n",
    "data = input(\"Enter your location : \")\n",
    "print(len(data))\n",
    "#len is used to count the character in the variable \n",
    "#or\n",
    "print(len(input(\"Enter you location :\")))\n",
    "#len is the funtion firstly it will take the input and return the number of character "
   ]
  },
  {
   "cell_type": "code",
   "execution_count": 1,
   "metadata": {},
   "outputs": [
    {
     "name": "stdout",
     "output_type": "stream",
     "text": [
      "The size of the bytes including overhead is 55\n",
      "the size of given value in bytes is 5\n",
      "6\n"
     ]
    }
   ],
   "source": [
    "import sys #module\n",
    "# sys.getsizeof() #it include overhead too\n",
    "# To get the actual byte \n",
    "name= \"Susil \"\n",
    "print(f\"The size of the bytes including overhead is {sys.getsizeof(name)}\")\n",
    "size_in_bytes = sys.getsizeof(name)-sys.getsizeof(' ')\n",
    "print(f\"the size of given value in bytes is {size_in_bytes}\")\n",
    "print(len(name))"
   ]
  },
  {
   "cell_type": "code",
   "execution_count": 2,
   "metadata": {},
   "outputs": [
    {
     "data": {
      "text/plain": [
       "'sushil'"
      ]
     },
     "execution_count": 2,
     "metadata": {},
     "output_type": "execute_result"
    }
   ],
   "source": [
    " input(\"What is your name : \") # this will take the input  or read "
   ]
  },
  {
   "cell_type": "code",
   "execution_count": 4,
   "metadata": {},
   "outputs": [
    {
     "name": "stdout",
     "output_type": "stream",
     "text": [
      "sskks\n"
     ]
    }
   ],
   "source": [
    "# lets use the varaible to store the name\n",
    "name= input(\"What is your name ?\")\n",
    "print(name)\n"
   ]
  },
  {
   "cell_type": "code",
   "execution_count": 6,
   "metadata": {},
   "outputs": [
    {
     "name": "stdout",
     "output_type": "stream",
     "text": [
      "Your name is :  susil \n",
      " Total letter in your name is : 5\n"
     ]
    }
   ],
   "source": [
    "name =input(\"Enter you name ?\")\n",
    "Total_number=len(name)\n",
    "\n",
    "print(\"Your name is : \", name , \"\\n\" , \"Total letter in your name is :\",Total_number)"
   ]
  },
  {
   "cell_type": "code",
   "execution_count": 10,
   "metadata": {},
   "outputs": [
    {
     "name": "stdout",
     "output_type": "stream",
     "text": [
      "\n",
      " Before Swapping\n",
      "The value of a is 5\n",
      "The value of b is 6\n",
      "After swap\n",
      "The value of a is 6\n",
      "The value of b is 5\n"
     ]
    }
   ],
   "source": [
    "#lets switch or swap the value \n",
    "a=int(input(\"A :\"))\n",
    "b=int(input(\"B:\"))\n",
    "print(\"\\n Before Swapping\")\n",
    "print(f\"The value of a is {a}\")\n",
    "print(f\"The value of b is {b}\")\n",
    "c=a\n",
    "a=b\n",
    "b=c\n",
    "print(\"After swap\")\n",
    "print(f\"The value of a is {a}\")\n",
    "print(f\"The value of b is {b}\")\n"
   ]
  },
  {
   "cell_type": "code",
   "execution_count": 14,
   "metadata": {},
   "outputs": [
    {
     "name": "stdout",
     "output_type": "stream",
     "text": [
      "After swapping\n",
      "The value of a is  7\n",
      "The value of b is  5\n",
      "another swapping :\n",
      "\n",
      "the value of a is  7.0\n",
      "the value of b is  5.0\n"
     ]
    }
   ],
   "source": [
    "#other method for swapping int the number are\n",
    "#1\n",
    "a=5\n",
    "b=7\n",
    "print(\"After swapping\")\n",
    "print(\"The value of a is \",(a+b-a))\n",
    "print(\"The value of b is \",(a+b-b))\n",
    "#another way of swapping\n",
    "print(f\"another swapping :\\n\")\n",
    "print(\"the value of a is \", (a*b)/a)\n",
    "print(\"the value of b is \", (a*b)/b)\n"
   ]
  },
  {
   "cell_type": "code",
   "execution_count": 4,
   "metadata": {},
   "outputs": [
    {
     "name": "stdout",
     "output_type": "stream",
     "text": [
      "Day 1 - Python Print Function\n",
      "The function is declared like this :\n",
      "print('What to print')\n"
     ]
    }
   ],
   "source": [
    "#  Day 1 - Python Print Function\n",
    "#The function is declared like this:\n",
    "#print('what to print')\n",
    "\n",
    "print(\"Day 1 - Python Print Function\")\n",
    "print(\"The function is declared like this :\")\n",
    "print(\"print('What to print')\")"
   ]
  },
  {
   "cell_type": "code",
   "execution_count": 8,
   "metadata": {},
   "outputs": [
    {
     "name": "stdout",
     "output_type": "stream",
     "text": [
      "kinh\n"
     ]
    }
   ],
   "source": [
    "name=input(\"Enter your name\")\n",
    "print(name)"
   ]
  },
  {
   "cell_type": "code",
   "execution_count": 9,
   "metadata": {},
   "outputs": [
    {
     "name": "stdout",
     "output_type": "stream",
     "text": [
      "my name is  9807089018\n"
     ]
    }
   ],
   "source": [
    "number=int(input(\"Enter the number \"))\n",
    "print(\"my name is \",number)"
   ]
  },
  {
   "cell_type": "code",
   "execution_count": 10,
   "metadata": {},
   "outputs": [
    {
     "name": "stdout",
     "output_type": "stream",
     "text": [
      "6\n"
     ]
    }
   ],
   "source": [
    "# Find the length of any word\n",
    "name=input(\"What's your name\");\n",
    "print(len(name))"
   ]
  },
  {
   "cell_type": "code",
   "execution_count": 12,
   "metadata": {},
   "outputs": [
    {
     "name": "stdout",
     "output_type": "stream",
     "text": [
      "Num1 : 100 \n",
      "Num2 : 5\n",
      "Num1 : 5 \n",
      "Num2 : 100\n"
     ]
    }
   ],
   "source": [
    "# swap two number\n",
    "num1 = input(\"Enter the number1 :\")\n",
    "num2 = input(\"Enter the number2 :\")\n",
    "\n",
    "#before swaping \n",
    "print(\"Num1 :\",num1,\"\\nNum2 :\",num2)\n",
    "\n",
    "#After swaping\n",
    "print(\"Num1 :\",num2 ,\"\\nNum2 :\",num1)"
   ]
  },
  {
   "cell_type": "code",
   "execution_count": 2,
   "metadata": {},
   "outputs": [
    {
     "name": "stdout",
     "output_type": "stream",
     "text": [
      "welcome to the Band Name Generator\n",
      "your band name could be  \n"
     ]
    }
   ],
   "source": [
    "# Brand Name Generator\n",
    "print(\"welcome to the Band Name Generator\")\n",
    "city = input(\"What's name of the city you grew up in ?\")\n",
    "pet_name=input(\"What is your pet's name ? \")\n",
    "print(f\"your band name could be {city} {pet_name}\")"
   ]
  },
  {
   "cell_type": "code",
   "execution_count": 4,
   "metadata": {},
   "outputs": [
    {
     "name": "stdout",
     "output_type": "stream",
     "text": [
      "\n",
      "hello world\n",
      "hello world\n",
      "hello world\n"
     ]
    }
   ],
   "source": [
    "print(\"\\nhello world\"*3)"
   ]
  },
  {
   "cell_type": "code",
   "execution_count": 6,
   "metadata": {},
   "outputs": [
    {
     "name": "stdout",
     "output_type": "stream",
     "text": [
      "Hello world\n"
     ]
    }
   ],
   "source": [
    "# concatenation\n",
    "print(\"Hello\"+\" \"+ \"world\")"
   ]
  },
  {
   "cell_type": "code",
   "execution_count": 8,
   "metadata": {},
   "outputs": [
    {
     "name": "stdout",
     "output_type": "stream",
     "text": [
      "hello \n"
     ]
    }
   ],
   "source": [
    "print(\"hello \" + input(\"Enter the world : \"))"
   ]
  },
  {
   "cell_type": "code",
   "execution_count": 10,
   "metadata": {},
   "outputs": [
    {
     "name": "stdout",
     "output_type": "stream",
     "text": [
      "The total character in the name is  6\n"
     ]
    }
   ],
   "source": [
    "# find the length in the python\n",
    "name= input(\"Enter your name : \")\n",
    "print(\"The total character in the name is \", len(name))\n",
    "\n"
   ]
  }
 ],
 "metadata": {
  "kernelspec": {
   "display_name": "Python 3",
   "language": "python",
   "name": "python3"
  },
  "language_info": {
   "codemirror_mode": {
    "name": "ipython",
    "version": 3
   },
   "file_extension": ".py",
   "mimetype": "text/x-python",
   "name": "python",
   "nbconvert_exporter": "python",
   "pygments_lexer": "ipython3",
   "version": "3.10.0"
  },
  "orig_nbformat": 4
 },
 "nbformat": 4,
 "nbformat_minor": 2
}
